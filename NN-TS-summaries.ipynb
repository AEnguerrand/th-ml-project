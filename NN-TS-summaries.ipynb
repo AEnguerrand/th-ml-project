{
 "cells": [
  {
   "cell_type": "code",
   "execution_count": 2,
   "metadata": {},
   "outputs": [],
   "source": [
    "import pandas as pd\n",
    "import os\n",
    "import matplotlib.pyplot as plt\n",
    "\n",
    "from astropy.time import Time"
   ]
  },
  {
   "cell_type": "code",
   "execution_count": 3,
   "metadata": {},
   "outputs": [],
   "source": [
    "%run -i \"load\\train.py\" #run script for loading"
   ]
  },
  {
   "cell_type": "code",
   "execution_count": 4,
   "metadata": {},
   "outputs": [],
   "source": [
    "summaries = training_set.groupby([\"object_id\",\"passband\"])[\"flux\"].agg(['mean','min','max','std'])"
   ]
  },
  {
   "cell_type": "code",
   "execution_count": 5,
   "metadata": {},
   "outputs": [
    {
     "name": "stderr",
     "output_type": "stream",
     "text": [
      "load\\train.py:1: FutureWarning: Method .as_matrix will be removed in a future version. Use .values instead.\n",
      "  import pandas as pd\n"
     ]
    }
   ],
   "source": [
    "data = summaries.unstack(\"passband\").as_matrix()"
   ]
  },
  {
   "cell_type": "code",
   "execution_count": 6,
   "metadata": {},
   "outputs": [
    {
     "data": {
      "text/plain": [
       "(7848, 24)"
      ]
     },
     "execution_count": 6,
     "metadata": {},
     "output_type": "execute_result"
    }
   ],
   "source": [
    "data.shape"
   ]
  },
  {
   "cell_type": "code",
   "execution_count": 7,
   "metadata": {},
   "outputs": [
    {
     "data": {
      "text/plain": [
       "array([[-3.25455438e+00, -3.85699911e+02, -1.34146566e+02, ...,\n",
       "         3.35425053e+02,  2.91803449e+02,  2.94779522e+02],\n",
       "       [-2.72039787e+00, -1.01980441e+00, -7.94237982e-01, ...,\n",
       "         6.45041306e+00,  6.40698918e+00,  7.09407286e+00],\n",
       "       [-4.80804167e-02,  1.41056615e-01,  2.40087019e+00, ...,\n",
       "         8.19198695e+00,  1.07103445e+01,  1.33327578e+01],\n",
       "       ...,\n",
       "       [-2.82914231e-01, -2.00942961e+01, -2.83887964e+01, ...,\n",
       "         3.14917075e+01,  2.23641179e+01,  4.83099597e+01],\n",
       "       [ 3.37420779e+00,  2.83422498e+01,  6.18994440e-01, ...,\n",
       "         7.66743352e+00,  1.01121695e+01,  4.41696623e+01],\n",
       "       [ 8.12700937e+02,  7.25169852e+02,  2.69036041e+03, ...,\n",
       "         1.44386809e+03,  1.10067661e+04,  8.68710117e+03]])"
      ]
     },
     "execution_count": 7,
     "metadata": {},
     "output_type": "execute_result"
    }
   ],
   "source": [
    "data"
   ]
  },
  {
   "cell_type": "code",
   "execution_count": null,
   "metadata": {},
   "outputs": [],
   "source": []
  }
 ],
 "metadata": {
  "kernelspec": {
   "display_name": "Python 3",
   "language": "python",
   "name": "python3"
  },
  "language_info": {
   "codemirror_mode": {
    "name": "ipython",
    "version": 3
   },
   "file_extension": ".py",
   "mimetype": "text/x-python",
   "name": "python",
   "nbconvert_exporter": "python",
   "pygments_lexer": "ipython3",
   "version": "3.6.7"
  }
 },
 "nbformat": 4,
 "nbformat_minor": 2
}
