{
 "cells": [
  {
   "cell_type": "markdown",
   "metadata": {},
   "source": [
    "## Train"
   ]
  },
  {
   "cell_type": "code",
   "execution_count": 1,
   "metadata": {},
   "outputs": [],
   "source": [
    "import pandas as pd\n",
    "training_set = pd.read_csv('../dataset/training_set.csv')\n",
    "training_set_metadata = pd.read_csv('../dataset/training_set_metadata.csv')"
   ]
  },
  {
   "cell_type": "code",
   "execution_count": 2,
   "metadata": {},
   "outputs": [
    {
     "data": {
      "text/html": [
       "<div>\n",
       "<style scoped>\n",
       "    .dataframe tbody tr th:only-of-type {\n",
       "        vertical-align: middle;\n",
       "    }\n",
       "\n",
       "    .dataframe tbody tr th {\n",
       "        vertical-align: top;\n",
       "    }\n",
       "\n",
       "    .dataframe thead th {\n",
       "        text-align: right;\n",
       "    }\n",
       "</style>\n",
       "<table border=\"1\" class=\"dataframe\">\n",
       "  <thead>\n",
       "    <tr style=\"text-align: right;\">\n",
       "      <th></th>\n",
       "      <th>object_id</th>\n",
       "      <th>mjd</th>\n",
       "      <th>passband</th>\n",
       "      <th>flux</th>\n",
       "      <th>flux_err</th>\n",
       "      <th>detected</th>\n",
       "    </tr>\n",
       "  </thead>\n",
       "  <tbody>\n",
       "    <tr>\n",
       "      <th>0</th>\n",
       "      <td>615</td>\n",
       "      <td>59750.4229</td>\n",
       "      <td>2</td>\n",
       "      <td>-544.810303</td>\n",
       "      <td>3.622952</td>\n",
       "      <td>1</td>\n",
       "    </tr>\n",
       "    <tr>\n",
       "      <th>1</th>\n",
       "      <td>615</td>\n",
       "      <td>59750.4306</td>\n",
       "      <td>1</td>\n",
       "      <td>-816.434326</td>\n",
       "      <td>5.553370</td>\n",
       "      <td>1</td>\n",
       "    </tr>\n",
       "    <tr>\n",
       "      <th>2</th>\n",
       "      <td>615</td>\n",
       "      <td>59750.4383</td>\n",
       "      <td>3</td>\n",
       "      <td>-471.385529</td>\n",
       "      <td>3.801213</td>\n",
       "      <td>1</td>\n",
       "    </tr>\n",
       "    <tr>\n",
       "      <th>3</th>\n",
       "      <td>615</td>\n",
       "      <td>59750.4450</td>\n",
       "      <td>4</td>\n",
       "      <td>-388.984985</td>\n",
       "      <td>11.395031</td>\n",
       "      <td>1</td>\n",
       "    </tr>\n",
       "    <tr>\n",
       "      <th>4</th>\n",
       "      <td>615</td>\n",
       "      <td>59752.4070</td>\n",
       "      <td>2</td>\n",
       "      <td>-681.858887</td>\n",
       "      <td>4.041204</td>\n",
       "      <td>1</td>\n",
       "    </tr>\n",
       "  </tbody>\n",
       "</table>\n",
       "</div>"
      ],
      "text/plain": [
       "   object_id         mjd  passband        flux   flux_err  detected\n",
       "0        615  59750.4229         2 -544.810303   3.622952         1\n",
       "1        615  59750.4306         1 -816.434326   5.553370         1\n",
       "2        615  59750.4383         3 -471.385529   3.801213         1\n",
       "3        615  59750.4450         4 -388.984985  11.395031         1\n",
       "4        615  59752.4070         2 -681.858887   4.041204         1"
      ]
     },
     "execution_count": 2,
     "metadata": {},
     "output_type": "execute_result"
    }
   ],
   "source": [
    "training_set.head()"
   ]
  },
  {
   "cell_type": "code",
   "execution_count": 3,
   "metadata": {},
   "outputs": [],
   "source": [
    "training_set['mjd'] = training_set.groupby(['object_id'])[\"mjd\"].transform(lambda x: (x - x.min()))"
   ]
  },
  {
   "cell_type": "code",
   "execution_count": 4,
   "metadata": {},
   "outputs": [],
   "source": [
    "training_set['interval'] = training_set.groupby(['object_id'])[\"mjd\"].transform(lambda x: (x.max() - x.min()))"
   ]
  },
  {
   "cell_type": "code",
   "execution_count": null,
   "metadata": {},
   "outputs": [
    {
     "data": {
      "text/html": [
       "<div>\n",
       "<style scoped>\n",
       "    .dataframe tbody tr th:only-of-type {\n",
       "        vertical-align: middle;\n",
       "    }\n",
       "\n",
       "    .dataframe tbody tr th {\n",
       "        vertical-align: top;\n",
       "    }\n",
       "\n",
       "    .dataframe thead th {\n",
       "        text-align: right;\n",
       "    }\n",
       "</style>\n",
       "<table border=\"1\" class=\"dataframe\">\n",
       "  <thead>\n",
       "    <tr style=\"text-align: right;\">\n",
       "      <th></th>\n",
       "      <th>object_id</th>\n",
       "      <th>mjd</th>\n",
       "      <th>passband</th>\n",
       "      <th>flux</th>\n",
       "      <th>flux_err</th>\n",
       "      <th>detected</th>\n",
       "      <th>interval</th>\n",
       "    </tr>\n",
       "  </thead>\n",
       "  <tbody>\n",
       "    <tr>\n",
       "      <th>0</th>\n",
       "      <td>615</td>\n",
       "      <td>0.0000</td>\n",
       "      <td>2</td>\n",
       "      <td>-544.810303</td>\n",
       "      <td>3.622952</td>\n",
       "      <td>1</td>\n",
       "      <td>873.7903</td>\n",
       "    </tr>\n",
       "    <tr>\n",
       "      <th>1</th>\n",
       "      <td>615</td>\n",
       "      <td>0.0077</td>\n",
       "      <td>1</td>\n",
       "      <td>-816.434326</td>\n",
       "      <td>5.553370</td>\n",
       "      <td>1</td>\n",
       "      <td>873.7903</td>\n",
       "    </tr>\n",
       "    <tr>\n",
       "      <th>2</th>\n",
       "      <td>615</td>\n",
       "      <td>0.0154</td>\n",
       "      <td>3</td>\n",
       "      <td>-471.385529</td>\n",
       "      <td>3.801213</td>\n",
       "      <td>1</td>\n",
       "      <td>873.7903</td>\n",
       "    </tr>\n",
       "    <tr>\n",
       "      <th>3</th>\n",
       "      <td>615</td>\n",
       "      <td>0.0221</td>\n",
       "      <td>4</td>\n",
       "      <td>-388.984985</td>\n",
       "      <td>11.395031</td>\n",
       "      <td>1</td>\n",
       "      <td>873.7903</td>\n",
       "    </tr>\n",
       "    <tr>\n",
       "      <th>4</th>\n",
       "      <td>615</td>\n",
       "      <td>1.9841</td>\n",
       "      <td>2</td>\n",
       "      <td>-681.858887</td>\n",
       "      <td>4.041204</td>\n",
       "      <td>1</td>\n",
       "      <td>873.7903</td>\n",
       "    </tr>\n",
       "  </tbody>\n",
       "</table>\n",
       "</div>"
      ],
      "text/plain": [
       "   object_id     mjd  passband        flux   flux_err  detected  interval\n",
       "0        615  0.0000         2 -544.810303   3.622952         1  873.7903\n",
       "1        615  0.0077         1 -816.434326   5.553370         1  873.7903\n",
       "2        615  0.0154         3 -471.385529   3.801213         1  873.7903\n",
       "3        615  0.0221         4 -388.984985  11.395031         1  873.7903\n",
       "4        615  1.9841         2 -681.858887   4.041204         1  873.7903"
      ]
     },
     "execution_count": 5,
     "metadata": {},
     "output_type": "execute_result"
    }
   ],
   "source": [
    "training_set.head()"
   ]
  },
  {
   "cell_type": "code",
   "execution_count": null,
   "metadata": {},
   "outputs": [
    {
     "data": {
      "text/html": [
       "<div>\n",
       "<style scoped>\n",
       "    .dataframe tbody tr th:only-of-type {\n",
       "        vertical-align: middle;\n",
       "    }\n",
       "\n",
       "    .dataframe tbody tr th {\n",
       "        vertical-align: top;\n",
       "    }\n",
       "\n",
       "    .dataframe thead th {\n",
       "        text-align: right;\n",
       "    }\n",
       "</style>\n",
       "<table border=\"1\" class=\"dataframe\">\n",
       "  <thead>\n",
       "    <tr style=\"text-align: right;\">\n",
       "      <th></th>\n",
       "      <th>object_id</th>\n",
       "      <th>mjd</th>\n",
       "      <th>passband</th>\n",
       "      <th>flux</th>\n",
       "      <th>flux_err</th>\n",
       "      <th>detected</th>\n",
       "      <th>interval</th>\n",
       "    </tr>\n",
       "  </thead>\n",
       "  <tbody>\n",
       "    <tr>\n",
       "      <th>1421700</th>\n",
       "      <td>130779836</td>\n",
       "      <td>845.5708</td>\n",
       "      <td>4</td>\n",
       "      <td>-39.881969</td>\n",
       "      <td>46.477093</td>\n",
       "      <td>0</td>\n",
       "      <td>877.6242</td>\n",
       "    </tr>\n",
       "    <tr>\n",
       "      <th>1421701</th>\n",
       "      <td>130779836</td>\n",
       "      <td>849.6329</td>\n",
       "      <td>1</td>\n",
       "      <td>14.894439</td>\n",
       "      <td>18.947685</td>\n",
       "      <td>0</td>\n",
       "      <td>877.6242</td>\n",
       "    </tr>\n",
       "    <tr>\n",
       "      <th>1421702</th>\n",
       "      <td>130779836</td>\n",
       "      <td>860.6095</td>\n",
       "      <td>5</td>\n",
       "      <td>30.593130</td>\n",
       "      <td>50.695290</td>\n",
       "      <td>0</td>\n",
       "      <td>877.6242</td>\n",
       "    </tr>\n",
       "    <tr>\n",
       "      <th>1421703</th>\n",
       "      <td>130779836</td>\n",
       "      <td>875.5844</td>\n",
       "      <td>4</td>\n",
       "      <td>-23.471439</td>\n",
       "      <td>44.819859</td>\n",
       "      <td>0</td>\n",
       "      <td>877.6242</td>\n",
       "    </tr>\n",
       "    <tr>\n",
       "      <th>1421704</th>\n",
       "      <td>130779836</td>\n",
       "      <td>877.6242</td>\n",
       "      <td>0</td>\n",
       "      <td>-41.214264</td>\n",
       "      <td>51.665123</td>\n",
       "      <td>0</td>\n",
       "      <td>877.6242</td>\n",
       "    </tr>\n",
       "  </tbody>\n",
       "</table>\n",
       "</div>"
      ],
      "text/plain": [
       "         object_id       mjd  passband       flux   flux_err  detected  \\\n",
       "1421700  130779836  845.5708         4 -39.881969  46.477093         0   \n",
       "1421701  130779836  849.6329         1  14.894439  18.947685         0   \n",
       "1421702  130779836  860.6095         5  30.593130  50.695290         0   \n",
       "1421703  130779836  875.5844         4 -23.471439  44.819859         0   \n",
       "1421704  130779836  877.6242         0 -41.214264  51.665123         0   \n",
       "\n",
       "         interval  \n",
       "1421700  877.6242  \n",
       "1421701  877.6242  \n",
       "1421702  877.6242  \n",
       "1421703  877.6242  \n",
       "1421704  877.6242  "
      ]
     },
     "execution_count": 6,
     "metadata": {},
     "output_type": "execute_result"
    }
   ],
   "source": [
    "training_set.tail()"
   ]
  },
  {
   "cell_type": "code",
   "execution_count": null,
   "metadata": {},
   "outputs": [
    {
     "data": {
      "text/plain": [
       "755.9755000000005"
      ]
     },
     "execution_count": 7,
     "metadata": {},
     "output_type": "execute_result"
    }
   ],
   "source": [
    "training_set['interval'].min()"
   ]
  },
  {
   "cell_type": "code",
   "execution_count": null,
   "metadata": {},
   "outputs": [
    {
     "data": {
      "text/plain": [
       "1094.0645999999979"
      ]
     },
     "execution_count": 8,
     "metadata": {},
     "output_type": "execute_result"
    }
   ],
   "source": [
    "training_set['interval'].max()"
   ]
  },
  {
   "cell_type": "code",
   "execution_count": null,
   "metadata": {},
   "outputs": [],
   "source": [
    "training_set.to_csv('training_set_mjd_reset_by_object_id_and_interval.csv')"
   ]
  },
  {
   "cell_type": "markdown",
   "metadata": {},
   "source": [
    "## Test"
   ]
  },
  {
   "cell_type": "code",
   "execution_count": null,
   "metadata": {},
   "outputs": [
    {
     "name": "stdout",
     "output_type": "stream",
     "text": [
      "===================\n",
      "iteration: 0\n"
     ]
    },
    {
     "name": "stderr",
     "output_type": "stream",
     "text": [
      "/usr/local/lib/python3.6/site-packages/ipykernel_launcher.py:18: SettingWithCopyWarning: \n",
      "A value is trying to be set on a copy of a slice from a DataFrame.\n",
      "Try using .loc[row_indexer,col_indexer] = value instead\n",
      "\n",
      "See the caveats in the documentation: http://pandas.pydata.org/pandas-docs/stable/indexing.html#indexing-view-versus-copy\n",
      "/usr/local/lib/python3.6/site-packages/ipykernel_launcher.py:19: SettingWithCopyWarning: \n",
      "A value is trying to be set on a copy of a slice from a DataFrame.\n",
      "Try using .loc[row_indexer,col_indexer] = value instead\n",
      "\n",
      "See the caveats in the documentation: http://pandas.pydata.org/pandas-docs/stable/indexing.html#indexing-view-versus-copy\n"
     ]
    },
    {
     "name": "stdout",
     "output_type": "stream",
     "text": [
      "===================\n",
      "iteration: 1\n",
      "===================\n",
      "iteration: 2\n",
      "===================\n",
      "iteration: 3\n",
      "===================\n",
      "iteration: 4\n",
      "===================\n",
      "iteration: 5\n",
      "===================\n",
      "iteration: 6\n",
      "===================\n",
      "iteration: 7\n",
      "===================\n",
      "iteration: 8\n",
      "===================\n",
      "iteration: 9\n",
      "===================\n",
      "iteration: 10\n",
      "===================\n",
      "iteration: 11\n",
      "===================\n",
      "iteration: 12\n",
      "===================\n",
      "iteration: 13\n",
      "===================\n",
      "iteration: 14\n",
      "===================\n",
      "iteration: 15\n",
      "===================\n",
      "iteration: 16\n",
      "===================\n",
      "iteration: 17\n",
      "===================\n",
      "iteration: 18\n",
      "===================\n",
      "iteration: 19\n",
      "===================\n",
      "iteration: 20\n"
     ]
    }
   ],
   "source": [
    "import pandas as pd\n",
    "chunks = 5000000 #90 iterations require\n",
    "old_min = 5000\n",
    "old_max = 0\n",
    "for it_chunk, df_chunk in enumerate(pd.read_csv('../dataset/test_set.csv', chunksize=chunks, iterator=True)):\n",
    "    print(\"===================\")\n",
    "    print('iteration:', it_chunk)\n",
    "    if it_chunk >= 1:\n",
    "        df_chunk = pd.concat([df_chunk_cache, df_chunk])\n",
    "    object_id_last = df_chunk.tail(1)['object_id'].values[0]\n",
    "    #remove last object_id if is not the end\n",
    "    if it_chunk != 90:\n",
    "        df_chunk_cache = df_chunk[df_chunk['object_id'] == object_id_last]\n",
    "        df_chunk = df_chunk[df_chunk['object_id'] != object_id_last]\n",
    "    # df_chunck contain all data of object_id inside\n",
    "    # put code here\n",
    "    #break  #is you want only the first chunck, uncomment \"break\"\n",
    "    df_chunk['mjd'] = df_chunk.groupby(['object_id'])[\"mjd\"].transform(lambda x: (x - x.min()))\n",
    "    df_chunk['interval'] = df_chunk.groupby(['object_id'])[\"mjd\"].transform(lambda x: (x.max() - x.min()))\n",
    "    if df_chunk['interval'].min() < old_min:\n",
    "        old_min = df_chunk['interval'].min()\n",
    "    if df_chunk['interval'].max() > old_max:\n",
    "        old_max = df_chunk['interval'].max()\n",
    "print('min', old_min)\n",
    "print('max', old_max)"
   ]
  },
  {
   "cell_type": "code",
   "execution_count": null,
   "metadata": {},
   "outputs": [],
   "source": []
  }
 ],
 "metadata": {
  "kernelspec": {
   "display_name": "Python 3",
   "language": "python",
   "name": "python3"
  },
  "language_info": {
   "codemirror_mode": {
    "name": "ipython",
    "version": 3
   },
   "file_extension": ".py",
   "mimetype": "text/x-python",
   "name": "python",
   "nbconvert_exporter": "python",
   "pygments_lexer": "ipython3",
   "version": "3.6.4"
  }
 },
 "nbformat": 4,
 "nbformat_minor": 2
}
