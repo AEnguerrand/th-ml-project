{
 "cells": [
  {
   "cell_type": "code",
   "execution_count": 1,
   "metadata": {},
   "outputs": [],
   "source": [
    "from load import test\n",
    "from pickles import pickling"
   ]
  },
  {
   "cell_type": "code",
   "execution_count": 2,
   "metadata": {},
   "outputs": [],
   "source": [
    "def test_function(chunk):\n",
    "    print(f\"this chunk goes from id {chunk.object_id.min()} to {chunk.object_id.max()}\")\n",
    "    "
   ]
  },
  {
   "cell_type": "code",
   "execution_count": 3,
   "metadata": {},
   "outputs": [
    {
     "name": "stdout",
     "output_type": "stream",
     "text": [
      "this chunk goes from id 13 to 158927\n",
      "this chunk goes from id 158928 to 316246\n",
      "this chunk goes from id 316251 to 106055715\n",
      "this chunk goes from id 106055728 to 107530081\n",
      "this chunk goes from id 107530083 to 108997756\n"
     ]
    }
   ],
   "source": [
    "test.load_apply(number_chunks=5,load_prefix=pickling.CHUNK_DF_FILE_PREFIX,function=test_function)"
   ]
  }
 ],
 "metadata": {
  "kernelspec": {
   "display_name": "Python 3",
   "language": "python",
   "name": "python3"
  },
  "language_info": {
   "codemirror_mode": {
    "name": "ipython",
    "version": 3
   },
   "file_extension": ".py",
   "mimetype": "text/x-python",
   "name": "python",
   "nbconvert_exporter": "python",
   "pygments_lexer": "ipython3",
   "version": "3.6.7"
  }
 },
 "nbformat": 4,
 "nbformat_minor": 2
}
