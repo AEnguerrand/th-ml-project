{
 "cells": [
  {
   "cell_type": "code",
   "execution_count": null,
   "metadata": {},
   "outputs": [],
   "source": [
    "import pandas as pd\n",
    "chunks = 5000000 #90 iterations require\n",
    "for it_chunk, df_chunk in enumerate(pd.read_csv('../dataset/test_set.csv', chunksize=chunks, iterator=True)):\n",
    "    print(\"===================\")\n",
    "    print('iteration:', it_chunk)\n",
    "    if it_chunk >= 1:\n",
    "        df_chunk = pd.concat([df_chunk_cache, df_chunk])\n",
    "    object_id_last = df_chunk.tail(1)['object_id'].values[0]\n",
    "    #remove last object_id if is not the end\n",
    "    if it_chunk != 90:\n",
    "        df_chunk_cache = df_chunk[df_chunk['object_id'] == object_id_last]\n",
    "        df_chunk = df_chunk[df_chunk['object_id'] != object_id_last]\n",
    "    # df_chunck contain all data of object_id inside\n",
    "    # put code here\n",
    "    print(df_chunk.object_id.unique())\n",
    "    #break  #is you want only the first chunck, uncomment \"break\""
   ]
  },
  {
   "cell_type": "code",
   "execution_count": null,
   "metadata": {},
   "outputs": [],
   "source": []
  }
 ],
 "metadata": {
  "kernelspec": {
   "display_name": "Python 3",
   "language": "python",
   "name": "python3"
  },
  "language_info": {
   "codemirror_mode": {
    "name": "ipython",
    "version": 3
   },
   "file_extension": ".py",
   "mimetype": "text/x-python",
   "name": "python",
   "nbconvert_exporter": "python",
   "pygments_lexer": "ipython3",
   "version": "3.6.4"
  }
 },
 "nbformat": 4,
 "nbformat_minor": 2
}
