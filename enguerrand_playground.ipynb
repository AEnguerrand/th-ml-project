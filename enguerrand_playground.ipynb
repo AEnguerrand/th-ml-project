{
 "cells": [
  {
   "cell_type": "code",
   "execution_count": 1,
   "metadata": {},
   "outputs": [],
   "source": [
    "import pandas as pd # data processing, csv load, dataframes\n",
    "%run -i 'load/train.py' #run script for loading"
   ]
  },
  {
   "cell_type": "code",
   "execution_count": 2,
   "metadata": {},
   "outputs": [
    {
     "data": {
      "text/html": [
       "<div>\n",
       "<style scoped>\n",
       "    .dataframe tbody tr th:only-of-type {\n",
       "        vertical-align: middle;\n",
       "    }\n",
       "\n",
       "    .dataframe tbody tr th {\n",
       "        vertical-align: top;\n",
       "    }\n",
       "\n",
       "    .dataframe thead th {\n",
       "        text-align: right;\n",
       "    }\n",
       "</style>\n",
       "<table border=\"1\" class=\"dataframe\">\n",
       "  <thead>\n",
       "    <tr style=\"text-align: right;\">\n",
       "      <th></th>\n",
       "      <th>object_id</th>\n",
       "      <th>mjd</th>\n",
       "      <th>passband</th>\n",
       "      <th>flux</th>\n",
       "      <th>flux_err</th>\n",
       "      <th>detected</th>\n",
       "    </tr>\n",
       "  </thead>\n",
       "  <tbody>\n",
       "    <tr>\n",
       "      <th>1355198</th>\n",
       "      <td>118970396</td>\n",
       "      <td>60386.1607</td>\n",
       "      <td>3</td>\n",
       "      <td>8.959886</td>\n",
       "      <td>12.047935</td>\n",
       "      <td>0</td>\n",
       "    </tr>\n",
       "    <tr>\n",
       "      <th>856573</th>\n",
       "      <td>29557097</td>\n",
       "      <td>60028.4047</td>\n",
       "      <td>4</td>\n",
       "      <td>-55.514511</td>\n",
       "      <td>21.901142</td>\n",
       "      <td>0</td>\n",
       "    </tr>\n",
       "    <tr>\n",
       "      <th>354697</th>\n",
       "      <td>183985</td>\n",
       "      <td>59649.0640</td>\n",
       "      <td>3</td>\n",
       "      <td>-0.989594</td>\n",
       "      <td>2.542462</td>\n",
       "      <td>0</td>\n",
       "    </tr>\n",
       "    <tr>\n",
       "      <th>1346103</th>\n",
       "      <td>117565211</td>\n",
       "      <td>60095.0830</td>\n",
       "      <td>5</td>\n",
       "      <td>14.616199</td>\n",
       "      <td>45.458195</td>\n",
       "      <td>0</td>\n",
       "    </tr>\n",
       "    <tr>\n",
       "      <th>203786</th>\n",
       "      <td>104397</td>\n",
       "      <td>59807.1815</td>\n",
       "      <td>1</td>\n",
       "      <td>3.447134</td>\n",
       "      <td>2.097336</td>\n",
       "      <td>0</td>\n",
       "    </tr>\n",
       "  </tbody>\n",
       "</table>\n",
       "</div>"
      ],
      "text/plain": [
       "         object_id         mjd  passband       flux   flux_err  detected\n",
       "1355198  118970396  60386.1607         3   8.959886  12.047935         0\n",
       "856573    29557097  60028.4047         4 -55.514511  21.901142         0\n",
       "354697      183985  59649.0640         3  -0.989594   2.542462         0\n",
       "1346103  117565211  60095.0830         5  14.616199  45.458195         0\n",
       "203786      104397  59807.1815         1   3.447134   2.097336         0"
      ]
     },
     "execution_count": 2,
     "metadata": {},
     "output_type": "execute_result"
    }
   ],
   "source": [
    "training_set.sample(5)"
   ]
  },
  {
   "cell_type": "code",
   "execution_count": 5,
   "metadata": {},
   "outputs": [
    {
     "data": {
      "text/html": [
       "<div>\n",
       "<style scoped>\n",
       "    .dataframe tbody tr th:only-of-type {\n",
       "        vertical-align: middle;\n",
       "    }\n",
       "\n",
       "    .dataframe tbody tr th {\n",
       "        vertical-align: top;\n",
       "    }\n",
       "\n",
       "    .dataframe thead th {\n",
       "        text-align: right;\n",
       "    }\n",
       "</style>\n",
       "<table border=\"1\" class=\"dataframe\">\n",
       "  <thead>\n",
       "    <tr style=\"text-align: right;\">\n",
       "      <th></th>\n",
       "      <th>object_id</th>\n",
       "      <th>ra</th>\n",
       "      <th>decl</th>\n",
       "      <th>gal_l</th>\n",
       "      <th>gal_b</th>\n",
       "      <th>ddf</th>\n",
       "      <th>hostgal_specz</th>\n",
       "      <th>hostgal_photoz</th>\n",
       "      <th>hostgal_photoz_err</th>\n",
       "      <th>distmod</th>\n",
       "      <th>mwebv</th>\n",
       "      <th>target</th>\n",
       "    </tr>\n",
       "  </thead>\n",
       "  <tbody>\n",
       "    <tr>\n",
       "      <th>2498</th>\n",
       "      <td>9058890</td>\n",
       "      <td>53.437500</td>\n",
       "      <td>-25.117701</td>\n",
       "      <td>219.152985</td>\n",
       "      <td>-53.668182</td>\n",
       "      <td>0</td>\n",
       "      <td>0.3242</td>\n",
       "      <td>0.2941</td>\n",
       "      <td>0.0316</td>\n",
       "      <td>40.9055</td>\n",
       "      <td>0.019</td>\n",
       "      <td>90</td>\n",
       "    </tr>\n",
       "    <tr>\n",
       "      <th>4898</th>\n",
       "      <td>63852414</td>\n",
       "      <td>288.632812</td>\n",
       "      <td>-27.447618</td>\n",
       "      <td>10.221699</td>\n",
       "      <td>-16.835748</td>\n",
       "      <td>0</td>\n",
       "      <td>0.0000</td>\n",
       "      <td>0.0000</td>\n",
       "      <td>0.0000</td>\n",
       "      <td>NaN</td>\n",
       "      <td>0.094</td>\n",
       "      <td>65</td>\n",
       "    </tr>\n",
       "    <tr>\n",
       "      <th>926</th>\n",
       "      <td>156537</td>\n",
       "      <td>352.132874</td>\n",
       "      <td>-63.636005</td>\n",
       "      <td>317.424173</td>\n",
       "      <td>-51.095855</td>\n",
       "      <td>1</td>\n",
       "      <td>2.0260</td>\n",
       "      <td>2.3090</td>\n",
       "      <td>0.0769</td>\n",
       "      <td>46.3380</td>\n",
       "      <td>0.021</td>\n",
       "      <td>88</td>\n",
       "    </tr>\n",
       "    <tr>\n",
       "      <th>2088</th>\n",
       "      <td>337743</td>\n",
       "      <td>351.953644</td>\n",
       "      <td>-62.132156</td>\n",
       "      <td>318.777388</td>\n",
       "      <td>-52.347124</td>\n",
       "      <td>1</td>\n",
       "      <td>0.0000</td>\n",
       "      <td>0.0000</td>\n",
       "      <td>0.0000</td>\n",
       "      <td>NaN</td>\n",
       "      <td>0.019</td>\n",
       "      <td>65</td>\n",
       "    </tr>\n",
       "    <tr>\n",
       "      <th>3288</th>\n",
       "      <td>26400170</td>\n",
       "      <td>324.843750</td>\n",
       "      <td>1.641510</td>\n",
       "      <td>56.904480</td>\n",
       "      <td>-35.593472</td>\n",
       "      <td>0</td>\n",
       "      <td>0.1972</td>\n",
       "      <td>0.2989</td>\n",
       "      <td>1.0340</td>\n",
       "      <td>40.9463</td>\n",
       "      <td>0.052</td>\n",
       "      <td>15</td>\n",
       "    </tr>\n",
       "  </tbody>\n",
       "</table>\n",
       "</div>"
      ],
      "text/plain": [
       "      object_id          ra       decl       gal_l      gal_b  ddf  \\\n",
       "2498    9058890   53.437500 -25.117701  219.152985 -53.668182    0   \n",
       "4898   63852414  288.632812 -27.447618   10.221699 -16.835748    0   \n",
       "926      156537  352.132874 -63.636005  317.424173 -51.095855    1   \n",
       "2088     337743  351.953644 -62.132156  318.777388 -52.347124    1   \n",
       "3288   26400170  324.843750   1.641510   56.904480 -35.593472    0   \n",
       "\n",
       "      hostgal_specz  hostgal_photoz  hostgal_photoz_err  distmod  mwebv  \\\n",
       "2498         0.3242          0.2941              0.0316  40.9055  0.019   \n",
       "4898         0.0000          0.0000              0.0000      NaN  0.094   \n",
       "926          2.0260          2.3090              0.0769  46.3380  0.021   \n",
       "2088         0.0000          0.0000              0.0000      NaN  0.019   \n",
       "3288         0.1972          0.2989              1.0340  40.9463  0.052   \n",
       "\n",
       "      target  \n",
       "2498      90  \n",
       "4898      65  \n",
       "926       88  \n",
       "2088      65  \n",
       "3288      15  "
      ]
     },
     "execution_count": 5,
     "metadata": {},
     "output_type": "execute_result"
    }
   ],
   "source": [
    "training_set_metadata.sample(5)"
   ]
  },
  {
   "cell_type": "code",
   "execution_count": 6,
   "metadata": {},
   "outputs": [
    {
     "name": "stdout",
     "output_type": "stream",
     "text": [
      "There are 14 unique targets.\n",
      "[92 88 42 90 65 16 67 95 62 15 52  6 64 53]\n"
     ]
    }
   ],
   "source": [
    "unique_targets = training_set_metadata.target.unique()\n",
    "print (\"There are {} unique targets.\".format(len(unique_targets)))\n",
    "print (unique_targets)"
   ]
  },
  {
   "cell_type": "markdown",
   "metadata": {},
   "source": [
    "## Work"
   ]
  },
  {
   "cell_type": "code",
   "execution_count": 9,
   "metadata": {},
   "outputs": [
    {
     "name": "stdout",
     "output_type": "stream",
     "text": [
      "615\n"
     ]
    },
    {
     "data": {
      "image/png": "[encoded data removed]",
      "text/plain": [
       "<Figure size 432x288 with 1 Axes>"
      ]
     },
     "metadata": {
      "needs_background": "light"
     },
     "output_type": "display_data"
    }
   ],
   "source": [
    "import matplotlib.pyplot as plt\n",
    "for name, group in training_set.groupby('object_id'):\n",
    "    print(name)\n",
    "    plt.plot(group['mjd'],group['flux'])\n",
    "    plt.show()\n",
    "    break"
   ]
  },
  {
   "cell_type": "code",
   "execution_count": null,
   "metadata": {},
   "outputs": [],
   "source": []
  }
 ],
 "metadata": {
  "kernelspec": {
   "display_name": "Python 3",
   "language": "python",
   "name": "python3"
  },
  "language_info": {
   "codemirror_mode": {
    "name": "ipython",
    "version": 3
   },
   "file_extension": ".py",
   "mimetype": "text/x-python",
   "name": "python",
   "nbconvert_exporter": "python",
   "pygments_lexer": "ipython3",
   "version": "3.6.4"
  }
 },
 "nbformat": 4,
 "nbformat_minor": 2
}
